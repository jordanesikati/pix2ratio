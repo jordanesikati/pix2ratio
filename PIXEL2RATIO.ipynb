{
 "cells": [
  {
   "cell_type": "code",
   "execution_count": 1,
   "id": "ce747d12-ce69-4e32-b3f7-1ffe0ebc23c7",
   "metadata": {},
   "outputs": [
    {
     "data": {
      "text/plain": [
       "array([[   0,    0],\n",
       "       [   1,    0],\n",
       "       [   2,    0],\n",
       "       ...,\n",
       "       [2479,  405],\n",
       "       [2480,  405],\n",
       "       [2481,  405]])"
      ]
     },
     "execution_count": 1,
     "metadata": {},
     "output_type": "execute_result"
    }
   ],
   "source": [
    "from PIL import Image\n",
    "import numpy as np\n",
    "\n",
    "def get_pixel_coordinates(image_path='./path/sample.png'):\n",
    "    \n",
    "    # Read the image\n",
    "    image = Image.open(image_path)\n",
    "    \n",
    "    # Get the image size\n",
    "    width, height = image.size\n",
    "\n",
    "    # Get the pixel coordinates\n",
    "    pixel_coordinates = []\n",
    "    for y in range(height):\n",
    "        for x in range(width):\n",
    "            pixel_coordinates.append((x, y))\n",
    "\n",
    "    return np.array(pixel_coordinates)\n",
    "\n",
    "\n",
    "# Example usage\n",
    "\n",
    "get_pixel_coordinates(image_path='./path/sample.png')\n"
   ]
  },
  {
   "cell_type": "code",
   "execution_count": 2,
   "id": "4d19b6f1-e6bf-4f68-b30c-9bbd292eecd9",
   "metadata": {},
   "outputs": [
    {
     "data": {
      "text/plain": [
       "array([1., 1., 1., ..., 1., 1., 1.])"
      ]
     },
     "execution_count": 2,
     "metadata": {},
     "output_type": "execute_result"
    }
   ],
   "source": [
    "def euclidean_distance(coordinates):\n",
    "    \n",
    "    # Convert the coordinates array to a NumPy array\n",
    "    coordinates = np.array(coordinates)\n",
    "\n",
    "    # Calculate the pairwise differences between coordinates\n",
    "    diff = np.diff(coordinates, axis=0)\n",
    "\n",
    "    # Square the differences and sum them along the axis\n",
    "    squared_diff = np.square(diff)\n",
    "    sum_squared_diff = np.sum(squared_diff, axis=1)\n",
    "\n",
    "    # Take the square root to get the Euclidean distance\n",
    "    distance = np.sqrt(sum_squared_diff)\n",
    "\n",
    "    return distance\n",
    "\n",
    "# Example usage\n",
    "\n",
    "pixel_coordinates = get_pixel_coordinates(image_path='./path/sample.png')\n",
    "\n",
    "euclidean_distance(pixel_coordinates)\n"
   ]
  },
  {
   "cell_type": "code",
   "execution_count": 4,
   "id": "ed25fe9d-5e2d-4a7d-8aee-fa5deb3c2e5d",
   "metadata": {},
   "outputs": [
    {
     "data": {
      "text/plain": [
       "array([0.05, 0.05, 0.05, ..., 0.05, 0.05, 0.05])"
      ]
     },
     "execution_count": 4,
     "metadata": {},
     "output_type": "execute_result"
    }
   ],
   "source": [
    "def pixel_ratio(distance=[], object_size=20):\n",
    "    \n",
    "    return distance / object_size\n",
    "\n",
    "# Example usage\n",
    "d = euclidean_distance(pixel_coordinates)\n",
    "pixel_ratio(distance=d, object_size=20)"
   ]
  }
 ],
 "metadata": {
  "kernelspec": {
   "display_name": "Python 3 (ipykernel)",
   "language": "python",
   "name": "python3"
  },
  "language_info": {
   "codemirror_mode": {
    "name": "ipython",
    "version": 3
   },
   "file_extension": ".py",
   "mimetype": "text/x-python",
   "name": "python",
   "nbconvert_exporter": "python",
   "pygments_lexer": "ipython3",
   "version": "3.9.13"
  }
 },
 "nbformat": 4,
 "nbformat_minor": 5
}
